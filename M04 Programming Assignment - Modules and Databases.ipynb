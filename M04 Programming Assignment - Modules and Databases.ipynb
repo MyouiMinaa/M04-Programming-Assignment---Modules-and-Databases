{
 "cells": [
  {
   "cell_type": "code",
   "execution_count": 40,
   "id": "a597b66d-9f3d-4753-b171-91f07916ac96",
   "metadata": {},
   "outputs": [
    {
     "name": "stdout",
     "output_type": "stream",
     "text": [
      "Open 9-5 daily\n"
     ]
    }
   ],
   "source": [
    "import zoo\n",
    "zoo.hours()"
   ]
  },
  {
   "cell_type": "code",
   "execution_count": 41,
   "id": "609349b7-f0ce-44a9-9485-ca1ce960572c",
   "metadata": {},
   "outputs": [
    {
     "name": "stdout",
     "output_type": "stream",
     "text": [
      "Open 9-5 daily\n"
     ]
    }
   ],
   "source": [
    "import zoo as menagerie\n",
    "menagerie.hours()"
   ]
  },
  {
   "cell_type": "code",
   "execution_count": 71,
   "id": "a99b0c71-1ebd-49f6-8807-f029b5ba948d",
   "metadata": {},
   "outputs": [
    {
     "ename": "SyntaxError",
     "evalue": "invalid syntax (1872438677.py, line 1)",
     "output_type": "error",
     "traceback": [
      "\u001b[0;36m  Cell \u001b[0;32mIn[71], line 1\u001b[0;36m\u001b[0m\n\u001b[0;31m    import sqlite3 conn = sqlite3.connect('books.db')\u001b[0m\n\u001b[0m                   ^\u001b[0m\n\u001b[0;31mSyntaxError\u001b[0m\u001b[0;31m:\u001b[0m invalid syntax\n"
     ]
    }
   ],
   "source": [
    "import sqlite3 conn = sqlite3.connect('books.db')\n",
    "with open('books.csv', 'r') as file:\n",
    "next(file)\n",
    "for line in file:\n",
    "author, book = line.strip().split(',')\n",
    "c.execute(\"INSERT INTO books VALUES (?, ?)\", (book, author))\n",
    "conn.commit() with open('books2.csv', 'r') as file:\n",
    "next(file)\n",
    "for line in file:\n",
    "title, author, year = line.strip().split(',')\n",
    "c.execute(\"Enter book title, author, and year:\", \n",
    "conn.commit() c.execute(\"SELECT title, author, year FROM books ORDER BY title\")\n",
    "for row in c:\n",
    "print(f\"Title: {row}, Author: {row}, Year: {row}\") conn.close()"
   ]
  },
  {
   "cell_type": "code",
   "execution_count": null,
   "id": "5ec0a7dc-2922-4210-af9b-60e07e5d5b90",
   "metadata": {},
   "outputs": [],
   "source": []
  }
 ],
 "metadata": {
  "kernelspec": {
   "display_name": "Python 3 (ipykernel)",
   "language": "python",
   "name": "python3"
  },
  "language_info": {
   "codemirror_mode": {
    "name": "ipython",
    "version": 3
   },
   "file_extension": ".py",
   "mimetype": "text/x-python",
   "name": "python",
   "nbconvert_exporter": "python",
   "pygments_lexer": "ipython3",
   "version": "3.11.7"
  }
 },
 "nbformat": 4,
 "nbformat_minor": 5
}
